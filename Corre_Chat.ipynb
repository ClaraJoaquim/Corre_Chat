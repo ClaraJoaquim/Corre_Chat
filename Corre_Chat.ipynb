{
  "nbformat": 4,
  "nbformat_minor": 0,
  "metadata": {
    "colab": {
      "provenance": []
    },
    "kernelspec": {
      "name": "python3",
      "display_name": "Python 3"
    },
    "language_info": {
      "name": "python"
    }
  },
  "cells": [
    {
      "cell_type": "code",
      "source": [
        "# Instalações necessárias das apis do google para rodar este projeto\n",
        "\n",
        "%pip -q install google-genai\n",
        "!pip install -q google-adk"
      ],
      "metadata": {
        "id": "UCCbECexLk_h"
      },
      "execution_count": 62,
      "outputs": []
    },
    {
      "cell_type": "code",
      "source": [
        "# Configurar a API Key do Google Gemini\n",
        "\n",
        "import os\n",
        "from google.colab import userdata\n",
        "\n",
        "os.environ[\"GOOGLE_API_KEY\"] = userdata.get('GOOGLE_API_KEY')"
      ],
      "metadata": {
        "id": "NfCqHo1tLk8P"
      },
      "execution_count": 63,
      "outputs": []
    },
    {
      "cell_type": "code",
      "source": [
        "# Configurar o cliente da SDK do Gemini\n",
        "\n",
        "from google import genai\n",
        "\n",
        "client = genai.Client()\n",
        "\n",
        "MODEL_ID = \"gemini-2.0-flash\""
      ],
      "metadata": {
        "id": "bV4w0H5TLk5g"
      },
      "execution_count": 64,
      "outputs": []
    },
    {
      "cell_type": "code",
      "execution_count": 65,
      "metadata": {
        "id": "aePV2bdfDeoW"
      },
      "outputs": [],
      "source": [
        "from google.adk.agents import Agent\n",
        "from google.adk.runners import Runner\n",
        "from google.adk.sessions import InMemorySessionService\n",
        "from google.adk.tools import google_search\n",
        "from google.genai import types  # Para criar conteúdos (Content e Part)\n",
        "import textwrap # Para formatar melhor a saída de texto\n",
        "from IPython.display import display, Markdown # Para exibir texto formatado no Colab\n",
        "import requests # Para fazer requisições HTTP\n",
        "import warnings\n",
        "\n",
        "warnings.filterwarnings(\"ignore\")"
      ]
    },
    {
      "cell_type": "code",
      "source": [
        "# Função auxiliar que envia uma mensagem para um agente via Runner e retorna a resposta final\n",
        "def call_agent(agent: Agent, message_text: str) -> str:\n",
        "    # Cria um serviço de sessão em memória\n",
        "    session_service = InMemorySessionService()\n",
        "    # Cria uma nova sessão (você pode personalizar os IDs conforme necessário)\n",
        "    session = session_service.create_session(app_name=agent.name, user_id=\"user1\", session_id=\"session1\")\n",
        "    # Cria um Runner para o agente\n",
        "    runner = Runner(agent=agent, app_name=agent.name, session_service=session_service)\n",
        "    # Cria o conteúdo da mensagem de entrada\n",
        "    content = types.Content(role=\"user\", parts=[types.Part(text=message_text)])\n",
        "\n",
        "    final_response = \"\"\n",
        "    # Itera assincronamente pelos eventos retornados durante a execução do agente\n",
        "    for event in runner.run(user_id=\"user1\", session_id=\"session1\", new_message=content):\n",
        "        if event.is_final_response():\n",
        "          for part in event.content.parts:\n",
        "            if part.text is not None:\n",
        "              final_response += part.text\n",
        "              final_response += \"\\n\"\n",
        "    return final_response"
      ],
      "metadata": {
        "id": "_xP4lWhsS5ko"
      },
      "execution_count": 66,
      "outputs": []
    },
    {
      "cell_type": "code",
      "source": [
        "# Função auxiliar para exibir texto formatado em Markdown no Colab\n",
        "def to_markdown(text):\n",
        "  text = text.replace('•', '  *')\n",
        "  return Markdown(textwrap.indent(text, '> ', predicate=lambda _: True))"
      ],
      "metadata": {
        "id": "8dosiodaxfFR"
      },
      "execution_count": 67,
      "outputs": []
    },
    {
      "cell_type": "code",
      "source": [
        "##########################################\n",
        "# --- Agente 1: Revisor de dados do usuário --- #\n",
        "##########################################\n",
        "\n",
        "def agente_revisor_dados(dados):\n",
        "\n",
        "    revisor_dados = Agent(\n",
        "        name=\"agente_revisor_dados\",\n",
        "        model=\"gemini-2.0-flash\",\n",
        "        instruction=\"\"\"\n",
        "        Você é um assistente responsável por revisar os dados digitados pelo usuário.\n",
        "        Caso o usuário informe um número irreal de dias por semana para corrida (ex: mais de 7 ou menos de 1),\n",
        "        ou um tempo exagerado por dia (ex: mais de 5 horas), você deve substituir por valores genéricos:\n",
        "        3 dias por semana e 1 hora de treino por dia\n",
        "        Além disso, se algum dado estiver ausente ou mal formatado, insira o valor padrão\n",
        "        e retorne uma mensagem de aviso sobre a correção.\n",
        "        \"\"\",\n",
        "        description=\"Agente que revisa os dados do usuário\",\n",
        "    )\n",
        "\n",
        "    entrada_do_agente_revisor_dados = f\"Dados do usuário: {dados}\"\n",
        "\n",
        "    dados_revisados = call_agent(revisor_dados, entrada_do_agente_revisor_dados)\n",
        "    return dados_revisados"
      ],
      "metadata": {
        "id": "nV077_Xrhiwz"
      },
      "execution_count": 82,
      "outputs": []
    },
    {
      "cell_type": "code",
      "source": [
        "##########################################\n",
        "# --- Agente 2: Buscador de Treinos de Corrida --- #\n",
        "##########################################\n",
        "\n",
        "def agente_buscador(treino, dados_revisados):\n",
        "\n",
        "    buscador = Agent(\n",
        "        name=\"agente_buscador\",\n",
        "        model=\"gemini-2.0-flash\",\n",
        "        instruction=\"\"\"\n",
        "        Você é um assistente especializado em corrida, responsável por pesquisar treinos eficientes de acordo com o perfil do usuário.\n",
        "        Use a ferramenta de busca do Google (google_search) para encontrar sugestões atualizadas e eficazes de treinos de corrida.\n",
        "        Sempre cumprimente o usuário usando o nome fornecido, mantendo um tom amigável e acolhedor.\n",
        "        Forneça as informações de forma objetiva e clara — sem exagerar nos detalhes, mas garantindo que o usuário saiba como começar.\n",
        "        Inclua dicas personalizadas conforme os dados revisados do usuário, considerando o objetivo dele com a corrida.\n",
        "        Evite repetir informações, cite fontes relevantes e use uma linguagem encorajadora.\n",
        "        \"\"\",\n",
        "        description=\"Agente que gera informações sobre corrida\",\n",
        "        tools=[google_search]\n",
        "    )\n",
        "\n",
        "    entrada_do_agente_buscador = f\"Treino: {treino}, Dados Revisados: {dados_revisados}\"\n",
        "\n",
        "    treinos_pesquisados = call_agent(buscador, entrada_do_agente_buscador)\n",
        "    return treinos_pesquisados"
      ],
      "metadata": {
        "id": "o8bqIfi_DyH8"
      },
      "execution_count": 83,
      "outputs": []
    },
    {
      "cell_type": "code",
      "source": [
        "################################################\n",
        "# --- Agente 3: Planejador de treinos --- #\n",
        "################################################\n",
        "\n",
        "def agente_planejador(treinos_pesquisados, treinos_buscados):\n",
        "    planejador = Agent(\n",
        "        name=\"agente_planejador\",\n",
        "        model=\"gemini-2.0-flash\",\n",
        "        # Inserir as instruções do Agente Planejador #################################################\n",
        "        instruction=\"\"\"\n",
        "        Você é um planejador de treinos especialista em corrida.\n",
        "        Com base na lista de treinos fornecida pelo agente buscador, seu papel é organizar e criar um plano de treino personalizado para o usuário.\n",
        "        Explique detalhadamente o que é cada treino, seus benefícios e para que serve.\n",
        "        No final, selecione os treinos mais relevantes para o objetivo do usuário e retorne esse plano de forma clara e objetiva.\n",
        "        Caso precise, você pode usar a ferramenta de busca do Google (google_search) para complementar informações específicas.\n",
        "        Mantenha um tom encorajador e amigável.\n",
        "        \"\"\",\n",
        "        description=\"Agente que planeja treinos\",\n",
        "        tools=[google_search]\n",
        "    )\n",
        "\n",
        "    entrada_do_agente_planejador = f\"Treino: {treinos_pesquisados}, Treinos buscados: {treinos_buscados}\"\n",
        "    # Executa o agente\n",
        "    plano_do_treino = call_agent(planejador, entrada_do_agente_planejador)\n",
        "    return plano_do_treino"
      ],
      "metadata": {
        "id": "y3VO1uo5_ghO"
      },
      "execution_count": 84,
      "outputs": []
    },
    {
      "cell_type": "code",
      "source": [
        "######################################\n",
        "# --- Agente 4: Treinador de Corrida --- #\n",
        "######################################\n",
        "\n",
        "def agente_treinador(plano_do_treino, plano_de_treino):\n",
        "    treinador = Agent(\n",
        "        name=\"agente_treinador\",\n",
        "        model=\"gemini-2.0-flash\",\n",
        "        instruction=\"\"\"\n",
        "        Você é um treinador especializado em treinos de corrida para todos os níveis: iniciantes, intermediários e avançados.\n",
        "        Utilize os treinos mais relevantes do plano fornecido para criar uma planilha rascunhada de 4 semanas de treinos.\n",
        "        A planilha deve ser organizada com colunas representando as semanas (Semana 1, Semana 2, Semana 3, Semana 4)\n",
        "        e linhas representando os dias da semana (segunda, terça, quarta, quinta, sexta, sábado e domingo).\n",
        "        Personalize o plano conforme as necessidades e nível do usuário, garantindo que os treinos sejam adequados e progressivos.\n",
        "        Obs: Se algum dia da semana não tiver treino previsto, escreva explicitamente ‘Descanso’. Nunca deixe campos em branco.\n",
        "        Use um tom motivacional e encorajador para ajudar o usuário a se sentir confiante para seguir o plano.\n",
        "        \"\"\",\n",
        "        description=\"Agente especializado em organizar treinos de corrida\"\n",
        "    )\n",
        "    entrada_do_agente_treinador = f\"Treinos: {plano_do_treino}, Plano de treino: {plano_de_treino}\"\n",
        "\n",
        "    rascunho = call_agent(treinador, entrada_do_agente_treinador)\n",
        "    return rascunho"
      ],
      "metadata": {
        "id": "uOqlg2TRLVh1"
      },
      "execution_count": 85,
      "outputs": []
    },
    {
      "cell_type": "code",
      "source": [
        "##########################################\n",
        "# --- Agente 5: Revisor de Treinos --- #\n",
        "##########################################\n",
        "\n",
        "def agente_revisor_planilha(rascunho, planilha_gerada):\n",
        "    revisor = Agent(\n",
        "        name=\"agente_revisor_planilha\",\n",
        "        model=\"gemini-2.0-flash\",\n",
        "        instruction=\"\"\"\n",
        "          Você é um revisor de planilhas de treino especializado em corrida.\n",
        "          Revise o conteúdo da planilha abaixo observando os seguintes aspectos:\n",
        "          Clareza (as instruções estão fáceis de entender?)\n",
        "          Concisão (sem repetições desnecessárias?)\n",
        "          Correção (há erros ou inconsistências?)\n",
        "          Tom (o plano motiva e respeita o nível do usuário?)\n",
        "          Obs: Não considere o uso da palavra \"descanso\" como repetição desnecessária, ela é\n",
        "          essencial na planilha para indicar dias de recuperação e deve aparecer sempre que necessário.\n",
        "          Se tudo estiver ótimo, responda apenas: 'A planilha está ótima e pronta para usar!'.\n",
        "          Caso contrário, liste os pontos que precisam ser melhorados e dê sugestões claras.\n",
        "            \"\"\",\n",
        "        description=\"Agente revisor de treinos para corrida.\"\n",
        "    )\n",
        "    entrada_do_agente_revisor = f\"Treinos: {rascunho}\\nPlanilha: {planilha_gerada}\"\n",
        "\n",
        "    texto_revisado = call_agent(revisor, entrada_do_agente_revisor)\n",
        "    return texto_revisado"
      ],
      "metadata": {
        "id": "_aTb1SdkLeT6"
      },
      "execution_count": 86,
      "outputs": []
    },
    {
      "cell_type": "code",
      "source": [
        "#############################################\n",
        "# --- Agente 6: Finalizador de Planilha --- #\n",
        "#############################################\n",
        "\n",
        "def agente_finalizador(treinos, planilha_original, revisao):\n",
        "    finalizador = Agent(\n",
        "        name=\"agente_finalizador\",\n",
        "        model=\"gemini-2.0-flash\",\n",
        "        instruction=\"\"\"\n",
        "        Você é um especialista em finalizar planilhas de treino de corrida.\n",
        "        Sua tarefa é revisar a planilha original com base na resposta do revisor.\n",
        "        Se a revisão disser que está tudo certo (ex: \"A planilha está ótima e pronta para usar!\"), apenas retorne a planilha original.\n",
        "        Se houver sugestões de melhoria, você deve aplicar essas sugestões na planilha, mantendo o formato original:\n",
        "        Colunas: Semana 1, Semana 2, Semana 3, Semana 4\n",
        "        Linhas: Segunda, Terça, Quarta, Quinta, Sexta, Sábado, Domingo\n",
        "        A nova versão da planilha deve ser clara, organizada e adequada ao perfil do usuário.\n",
        "        \"\"\",\n",
        "        description=\"Agente responsável por aplicar revisões e finalizar a planilha de treinos.\"\n",
        "    )\n",
        "    entrada_do_agente_finalizador = f\"Treinos originais: {treinos}, Planilha original: {planilha_original}, Revisão: {revisao}\"\n",
        "\n",
        "    planilha_final = call_agent(finalizador, entrada_do_agente_finalizador)\n",
        "    return planilha_final"
      ],
      "metadata": {
        "id": "kum7xgL2EKYo"
      },
      "execution_count": 87,
      "outputs": []
    },
    {
      "cell_type": "code",
      "source": [
        "print(\" 🏁 Bem-vindo ao seu Treinador de Corridas Personalizado! 🏃‍♀️\")\n",
        "\n",
        "# --- Obter dados do usuário ---\n",
        "\n",
        "print(\"\\nPor favor, informe os dados abaixo: \\n\")\n",
        "\n",
        "nome = input(\"Qual é o seu nome? \")\n",
        "while not nome:\n",
        "  nome = input(\"Por favor, informe um nome válido.\\nQual é o seu nome? \")\n",
        "\n",
        "\n",
        "idade = input(\"\\nQual a sua idade? \")\n",
        "while not idade:\n",
        "  idade = input(\"Por favor, informe uma idade válida.\\nQual é o sua idade? \")\n",
        "\n",
        "\n",
        "nivel = input(\"\\nComo você descreveria sua experiência atual na corrida? (Iniciante, Intermediário, Avançado) \")\n",
        "while not nivel:\n",
        "  nivel = input(\"Por favor, informe sua experiencia na corrida: \")\n",
        "\n",
        "\n",
        "semanas = int(input(\"\\nEm quantos dias da semana você pretende treinar corrida? \"))\n",
        "while not semanas:\n",
        "    semanas = int(input(\"Por favor, quantos dias da semana você pretende treinar corrida: \"))\n",
        "\n",
        "\n",
        "dia = input(\"\\nEm quais dias da semana você geralmente pode treinar? (Ex: Seg, Qua, Sex) \")\n",
        "while not dia:\n",
        "    dia = input(\"Por favor, informe os dias da semana que você pode treinar: \")\n",
        "\n",
        "\n",
        "tempo = input(\"\\nEm média, quanto tempo você dedica a cada treino de corrida? \")\n",
        "while not tempo:\n",
        "    tempo = input(\"Por favor, informe quanto tempo você dedica a cada sessão de corrida: \")\n",
        "\n",
        "\n",
        "objetivo = input(\"\\nQual é o seu principal objetivo com a corrida atualmente? (Ex: Correr uma prova de 5km, melhorar meu tempo em 10km, sentir mais disposição, etc.) \")\n",
        "while not objetivo:\n",
        "    objetivo = input(\"Por favor, informe seu objetivo com a corrida: \")\n",
        "\n",
        "\n",
        "observacao = input(\"\\nGostaria de adicionar alguma informação relevante sobre sua saúde, histórico de lesões ou outras considerações para o seu treino? \")\n",
        "\n",
        "\n",
        "# --- Armazenar os dados do usuário em apenas uma variável ---\n",
        "user_message = f\"\"\"\n",
        "Nome: {nome}\n",
        "Idade: {idade}\n",
        "Nivel: {nivel}\n",
        "Dias de treino por semana: {semanas}\n",
        "Tempo de treino por dia: {tempo}\n",
        "Dia da semana: {dia}\n",
        "Objetivo: {objetivo}\n",
        "Observação: {observacao}\n",
        "\"\"\"\n",
        "\n",
        "# Inserir lógica do sistema de agentes ################################################\n",
        "\n",
        "print(\"\\nCerto! Criaremos seu plano de corrida personalizado! 💪\")\n",
        "\n",
        "revisor_dados = agente_revisor_dados(user_message)\n",
        "print(\"\\n--- ✅ Resultado do revisor de dados ---\\n\")\n",
        "display(to_markdown(revisor_dados))\n",
        "print(\"--------------------------------------------------------------\")\n",
        "\n",
        "treinos_buscados = agente_buscador(user_message, revisor_dados)\n",
        "print(\"\\n--- ✅ Resultado da busca de treinos  ---\\n\")\n",
        "display(to_markdown(treinos_buscados))\n",
        "print(\"--------------------------------------------------------------\")\n",
        "\n",
        "plano_de_treino = agente_planejador(user_message, treinos_buscados)\n",
        "print(\"\\n--- ✅ Resultado do planejador de treinos ---\\n\")\n",
        "display(to_markdown(plano_de_treino))\n",
        "print(\"--------------------------------------------------------------\")\n",
        "\n",
        "rascunho_de_treino = agente_treinador(user_message, plano_de_treino)\n",
        "print(\"\\n--- ✅ Resultado do rascunho de treinos ---\\n\")\n",
        "display(to_markdown(rascunho_de_treino))\n",
        "print(\"--------------------------------------------------------------\")\n",
        "\n",
        "revisor = agente_revisor_planilha(user_message, rascunho_de_treino)\n",
        "print(\"\\n--- ✅ Resultado do revisor de treinos ---\\n\")\n",
        "display(to_markdown(revisor))\n",
        "print(\"--------------------------------------------------------------\")\n",
        "\n",
        "planilha_final = agente_finalizador(user_message, rascunho_de_treino, revisor)\n",
        "print(\"\\n--- ✅ Resultado da planilha final ---\\n\")\n",
        "print(\"\\n🎉 Seu plano de corrida personalizado está pronto! Consulte abaixo:\")\n",
        "display(to_markdown(planilha_final))\n",
        "print(\"\\nBoa corrida! 😄\")\n",
        "print(\"--------------------------------------------------------------\")"
      ],
      "metadata": {
        "colab": {
          "base_uri": "https://localhost:8080/",
          "height": 1000
        },
        "id": "6xzI6LKzxxnN",
        "outputId": "7c933073-9f79-4bdc-9f57-0cba55614371"
      },
      "execution_count": 88,
      "outputs": [
        {
          "output_type": "stream",
          "name": "stdout",
          "text": [
            " 🏁 Bem-vindo ao seu Treinador de Corridas Personalizado! 🏃‍♀️\n",
            "\n",
            "Por favor, informe os dados abaixo: \n",
            "\n",
            "Qual é o seu nome? Clara\n",
            "\n",
            "Qual a sua idade? 21 anos\n",
            "\n",
            "Como você descreveria sua experiência atual na corrida? (Iniciante, Intermediário, Avançado) Avançado\n",
            "\n",
            "Em quantos dias da semana você pretende treinar corrida? 3\n",
            "\n",
            "Em quais dias da semana você geralmente pode treinar? (Ex: Seg, Qua, Sex) Terça, quinta e sabado\n",
            "\n",
            "Em média, quanto tempo você dedica a cada treino de corrida? 1 hora\n",
            "\n",
            "Qual é o seu principal objetivo com a corrida atualmente? (Ex: Correr uma prova de 5km, melhorar meu tempo em 10km, sentir mais disposição, etc.) correr 5km em menos de 25 min\n",
            "\n",
            "Gostaria de adicionar alguma informação relevante sobre sua saúde, histórico de lesões ou outras considerações para o seu treino? Nenhuma\n",
            "\n",
            "Certo! Criaremos seu plano de corrida personalizado! 💪\n",
            "\n",
            "--- ✅ Resultado do revisor de dados ---\n",
            "\n"
          ]
        },
        {
          "output_type": "display_data",
          "data": {
            "text/plain": [
              "<IPython.core.display.Markdown object>"
            ],
            "text/markdown": "> Os dados do usuário estão completos e bem formatados, sem necessidade de alterações.\n> \n"
          },
          "metadata": {}
        },
        {
          "output_type": "stream",
          "name": "stdout",
          "text": [
            "--------------------------------------------------------------\n",
            "\n",
            "--- ✅ Resultado da busca de treinos  ---\n",
            "\n"
          ]
        },
        {
          "output_type": "display_data",
          "data": {
            "text/plain": [
              "<IPython.core.display.Markdown object>"
            ],
            "text/markdown": "> Olá, Clara! Tudo bem? Que bom ter você por aqui!\n> \n> Com base no seu perfil de corredora avançada de 21 anos, que treina 3 vezes por semana com o objetivo de correr 5km em menos de 25 minutos, preparei algumas sugestões de treinos que podem te ajudar a alcançar essa meta.\n> \n> \n> Para te ajudar a atingir seu objetivo de correr 5 km em menos de 25 minutos, preparei um plano de treino focado em velocidade e resistência, combinando diferentes tipos de exercícios para otimizar seu desempenho.\n> \n> ### Sugestões de Treino:\n> \n> 1.  **Treino Intervalado:**\n> \n> *   **Terça-feira:** Treino intervalado de alta intensidade (HIIT).\n>     *   Aquecimento: 10 minutos de trote leve.\n>     *   Série principal: 8-12 repetições de 1 minuto de corrida intensa (próximo ao seu ritmo de prova) seguidos por 30 segundos de descanso ativo (trote leve ou caminhada).\n>     *   Volta à calma: 5 minutos de trote leve.\n>     *   **Benefícios:** Aumenta a capacidade cardiorrespiratória e a velocidade.\n> 2.  **Treino de Ritmo (Tempo Run):**\n> \n> *   **Quinta-feira:** Treino de ritmo para melhorar a resistência.\n>     *   Aquecimento: 10 minutos de trote leve.\n>     *   Série principal: 20-25 minutos de corrida em ritmo constante e desafiador, ligeiramente mais lento que seu ritmo de prova de 5 km.\n>     *   Volta à calma: 5 minutos de trote leve.\n>     *   **Benefícios:** Melhora a resistência muscular e a capacidade de manter um ritmo rápido por mais tempo.\n> 3.  **Treino Longo Leve:**\n> \n> *   **Sábado:** Corrida leve e contínua.\n>     *   Aquecimento: 5 minutos de trote leve.\n>     *   Série principal: 35-40 minutos de corrida em ritmo confortável e conversacional.\n>     *   Volta à calma: 5 minutos de caminhada leve.\n>     *   **Benefícios:** Aumenta a resistência aeróbica e a capacidade do corpo de usar gordura como fonte de energia.\n> \n> ### Dicas Adicionais:\n> \n> *   **Aquecimento:** Antes de cada treino, faça um aquecimento adequado com alongamentos dinâmicos e um trote leve.\n> *   **Descanso:** Priorize o descanso e a recuperação muscular, especialmente após os treinos mais intensos.\n> *   **Alimentação:** Mantenha uma dieta equilibrada e rica em nutrientes para otimizar o desempenho e a recuperação.\n> *   **Fortalecimento:** Inclua exercícios de fortalecimento muscular (como musculação ou treinamento funcional) em sua rotina para prevenir lesões e melhorar a eficiência da corrida.\n> *   **Técnica de Corrida:** Trabalhe na sua técnica de corrida para otimizar a biomecânica e reduzir o risco de lesões.\n> \n> Lembre-se que a consistência é fundamental para alcançar seus objetivos. Mantenha-se motivada, ouça seu corpo e ajuste o plano de treino conforme necessário. Com dedicação e disciplina, você certamente alcançará sua meta de correr 5 km em menos de 25 minutos. 😉\n> \n"
          },
          "metadata": {}
        },
        {
          "output_type": "stream",
          "name": "stdout",
          "text": [
            "--------------------------------------------------------------\n",
            "\n",
            "--- ✅ Resultado do planejador de treinos ---\n",
            "\n"
          ]
        },
        {
          "output_type": "display_data",
          "data": {
            "text/plain": [
              "<IPython.core.display.Markdown object>"
            ],
            "text/markdown": "> Olá, Clara! Tudo bem? Que bom ter você por aqui!\n> \n> Com base no seu perfil de corredora avançada de 21 anos, que treina 3 vezes por semana com o objetivo de correr 5km em menos de 25 minutos, preparei um plano de treino personalizado e otimizado para te ajudar a alcançar essa meta.\n> \n> **Plano de Treino Personalizado:**\n> \n> *   **Terça-feira: Treino Intervalado de Alta Intensidade (HIIT)**\n> \n>     *   **O que é:** Este treino combina picos de corrida de alta intensidade com períodos de descanso ativo.\n>     *   **Como fazer:**\n>         *   Aquecimento: 10 minutos de trote leve.\n>         *   Série principal: 8-12 repetições de 1 minuto de corrida intensa (próximo ao seu ritmo de prova) seguidos por 30 segundos de descanso ativo (trote leve ou caminhada).\n>         *   Volta à calma: 5 minutos de trote leve.\n>     *   **Benefícios:** Melhora a capacidade cardiorrespiratória, aumenta a velocidade e a resistência, além de otimizar o uso de energia pelo corpo.\n> *   **Quinta-feira: Treino de Ritmo (Tempo Run)**\n> \n>     *   **O que é:** Este treino consiste em correr em um ritmo constante e desafiador por um período prolongado.\n>     *   **Como fazer:**\n>         *   Aquecimento: 10 minutos de trote leve.\n>         *   Série principal: 20-25 minutos de corrida em ritmo constante e desafiador, ligeiramente mais lento que seu ritmo de prova de 5 km.\n>         *   Volta à calma: 5 minutos de trote leve.\n>     *   **Benefícios:** Aumenta a resistência muscular, melhora a capacidade de manter um ritmo rápido por mais tempo e fortalece a sua confiança para correr em ritmo constante.\n> *   **Sábado: Treino Longo Leve**\n> \n>     *   **O que é:** Uma corrida mais longa em um ritmo confortável e conversacional.\n>     *   **Como fazer:**\n>         *   Aquecimento: 5 minutos de trote leve.\n>         *   Série principal: 35-40 minutos de corrida em ritmo confortável e conversacional.\n>         *   Volta à calma: 5 minutos de caminhada leve.\n>     *   **Benefícios:** Aumenta a resistência aeróbica, melhora a capacidade do corpo de usar gordura como fonte de energia e fortalece a sua base para treinos mais intensos.\n> \n> **Dicas Adicionais:**\n> \n> *   **Aquecimento:** Antes de cada treino, faça um aquecimento adequado com alongamentos dinâmicos e um trote leve.\n> *   **Descanso:** Priorize o descanso e a recuperação muscular, especialmente após os treinos mais intensos.\n> *   **Alimentação:** Mantenha uma dieta equilibrada e rica em nutrientes para otimizar o desempenho e a recuperação.\n> *   **Fortalecimento:** Inclua exercícios de fortalecimento muscular (como musculação ou treinamento funcional) em sua rotina para prevenir lesões e melhorar a eficiência da corrida.\n> *   **Técnica de Corrida:** Trabalhe na sua técnica de corrida para otimizar a biomecânica e reduzir o risco de lesões.\n> \n> Lembre-se que a consistência é fundamental para alcançar seus objetivos. Mantenha-se motivada, ouça seu corpo e ajuste o plano de treino conforme necessário. Com dedicação e disciplina, você certamente alcançará sua meta de correr 5 km em menos de 25 minutos. 😉\n> \n"
          },
          "metadata": {}
        },
        {
          "output_type": "stream",
          "name": "stdout",
          "text": [
            "--------------------------------------------------------------\n",
            "\n",
            "--- ✅ Resultado do rascunho de treinos ---\n",
            "\n"
          ]
        },
        {
          "output_type": "display_data",
          "data": {
            "text/plain": [
              "<IPython.core.display.Markdown object>"
            ],
            "text/markdown": "> Olá, Clara! 😊\n> \n> Com base no plano de treino que preparei para você, aqui está um rascunho da sua planilha de 4 semanas. Lembre-se que este é um plano flexível, e você pode ajustá-lo conforme necessário, de acordo com seu corpo e sua rotina. O mais importante é manter a consistência e a motivação!\n> \n> **Planilha de Treino de 4 Semanas**\n> \n> | Dia da Semana | Semana 1                                                                                                   | Semana 2                                                                                                   | Semana 3                                                                                                   | Semana 4                                                                                                     |\n> | :------------ | :--------------------------------------------------------------------------------------------------------- | :--------------------------------------------------------------------------------------------------------- | :--------------------------------------------------------------------------------------------------------- | :----------------------------------------------------------------------------------------------------------- |\n> | **Segunda**    | Descanso                                                                                                   | Descanso                                                                                                   | Descanso                                                                                                   | Descanso                                                                                                     |\n> | **Terça**     | Treino Intervalado (8 repetições de 1 minuto intenso com 30 segundos de descanso)                           | Treino Intervalado (10 repetições de 1 minuto intenso com 30 segundos de descanso)                          | Treino Intervalado (12 repetições de 1 minuto intenso com 30 segundos de descanso)                          | Treino Intervalado (12 repetições de 1 minuto intenso com 30 segundos de descanso)                          |\n> | **Quarta**    | Descanso                                                                                                   | Descanso                                                                                                   | Descanso                                                                                                   | Descanso                                                                                                     |\n> | **Quinta**    | Treino de Ritmo (20 minutos em ritmo constante e desafiador)                                               | Treino de Ritmo (22 minutos em ritmo constante e desafiador)                                               | Treino de Ritmo (25 minutos em ritmo constante e desafiador)                                               | Treino de Ritmo (25 minutos em ritmo constante e desafiador)                                               |\n> | **Sexta**     | Descanso                                                                                                   | Descanso                                                                                                   | Descanso                                                                                                   | Descanso                                                                                                     |\n> | **Sábado**    | Treino Longo Leve (35 minutos em ritmo confortável)                                                          | Treino Longo Leve (38 minutos em ritmo confortável)                                                          | Treino Longo Leve (40 minutos em ritmo confortável)                                                          | Treino Longo Leve (40 minutos em ritmo confortável)                                                          |\n> | **Domingo**   | Descanso                                                                                                   | Descanso                                                                                                   | Descanso                                                                                                   | Descanso                                                                                                     |\n> \n> **Observações:**\n> \n> *   **Aquecimento e Volta à Calma:** Não se esqueça de incluir 10 minutos de aquecimento e 5 minutos de volta à calma em todos os treinos.\n> *   **Intensidade:** Ajuste a intensidade dos treinos intervalados e de ritmo com base em como você se sente. O objetivo é desafiar-se, mas sem exagerar!\n> *   **Descanso:** O descanso é crucial para a recuperação e para evitar lesões. Respeite os dias de descanso e ouça o seu corpo.\n> *   **Progressão:** A progressão é leve e gradual. Aumentar o tempo ou a intensidade muito rapidamente pode levar a lesões.\n> \n> Lembre-se de que estou aqui para te ajudar em cada passo do caminho. Se tiver alguma dúvida ou precisar de ajustes no plano, é só me avisar! 😉\n"
          },
          "metadata": {}
        },
        {
          "output_type": "stream",
          "name": "stdout",
          "text": [
            "--------------------------------------------------------------\n",
            "\n",
            "--- ✅ Resultado do revisor de treinos ---\n",
            "\n"
          ]
        },
        {
          "output_type": "display_data",
          "data": {
            "text/plain": [
              "<IPython.core.display.Markdown object>"
            ],
            "text/markdown": "> A planilha está ótima e pronta para usar!\n> \n"
          },
          "metadata": {}
        },
        {
          "output_type": "stream",
          "name": "stdout",
          "text": [
            "--------------------------------------------------------------\n",
            "\n",
            "--- ✅ Resultado da planilha final ---\n",
            "\n",
            "\n",
            "🎉 Seu plano de corrida personalizado está pronto! Consulte abaixo:\n"
          ]
        },
        {
          "output_type": "display_data",
          "data": {
            "text/plain": [
              "<IPython.core.display.Markdown object>"
            ],
            "text/markdown": "> Olá, Clara! 😊\n> \n> Com base no plano de treino que preparei para você, aqui está um rascunho da sua planilha de 4 semanas. Lembre-se que este é um plano flexível, e você pode ajustá-lo conforme necessário, de acordo com seu corpo e sua rotina. O mais importante é manter a consistência e a motivação!\n> \n> **Planilha de Treino de 4 Semanas**\n> \n> | Dia da Semana | Semana 1                                                                                                   | Semana 2                                                                                                   | Semana 3                                                                                                   | Semana 4                                                                                                     |\n> | :------------ | :--------------------------------------------------------------------------------------------------------- | :--------------------------------------------------------------------------------------------------------- | :--------------------------------------------------------------------------------------------------------- | :----------------------------------------------------------------------------------------------------------- |\n> | **Segunda**    | Descanso                                                                                                   | Descanso                                                                                                   | Descanso                                                                                                   | Descanso                                                                                                     |\n> | **Terça**     | Treino Intervalado (8 repetições de 1 minuto intenso com 30 segundos de descanso)                           | Treino Intervalado (10 repetições de 1 minuto intenso com 30 segundos de descanso)                          | Treino Intervalado (12 repetições de 1 minuto intenso com 30 segundos de descanso)                          | Treino Intervalado (12 repetições de 1 minuto intenso com 30 segundos de descanso)                          |\n> | **Quarta**    | Descanso                                                                                                   | Descanso                                                                                                   | Descanso                                                                                                   | Descanso                                                                                                     |\n> | **Quinta**    | Treino de Ritmo (20 minutos em ritmo constante e desafiador)                                               | Treino de Ritmo (22 minutos em ritmo constante e desafiador)                                               | Treino de Ritmo (25 minutos em ritmo constante e desafiador)                                               | Treino de Ritmo (25 minutos em ritmo constante e desafiador)                                               |\n> | **Sexta**     | Descanso                                                                                                   | Descanso                                                                                                   | Descanso                                                                                                   | Descanso                                                                                                     |\n> | **Sábado**    | Treino Longo Leve (35 minutos em ritmo confortável)                                                          | Treino Longo Leve (38 minutos em ritmo confortável)                                                          | Treino Longo Leve (40 minutos em ritmo confortável)                                                          | Treino Longo Leve (40 minutos em ritmo confortável)                                                          |\n> | **Domingo**   | Descanso                                                                                                   | Descanso                                                                                                   | Descanso                                                                                                   | Descanso                                                                                                     |\n> \n> **Observações:**\n> \n> *   **Aquecimento e Volta à Calma:** Não se esqueça de incluir 10 minutos de aquecimento e 5 minutos de volta à calma em todos os treinos.\n> *   **Intensidade:** Ajuste a intensidade dos treinos intervalados e de ritmo com base em como você se sente. O objetivo é desafiar-se, mas sem exagerar!\n> *   **Descanso:** O descanso é crucial para a recuperação e para evitar lesões. Respeite os dias de descanso e ouça o seu corpo.\n> *   **Progressão:** A progressão é leve e gradual. Aumentar o tempo ou a intensidade muito rapidamente pode levar a lesões.\n> \n> Lembre-se de que estou aqui para te ajudar em cada passo do caminho. Se tiver alguma dúvida ou precisar de ajustes no plano, é só me avisar! 😉\n> \n"
          },
          "metadata": {}
        },
        {
          "output_type": "stream",
          "name": "stdout",
          "text": [
            "\n",
            "Boa corrida! 😄\n",
            "--------------------------------------------------------------\n"
          ]
        }
      ]
    }
  ]
}